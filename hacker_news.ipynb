{
 "cells": [
  {
   "cell_type": "markdown",
   "id": "5e3d0483-d77b-4b48-b942-d049f9ae4cf6",
   "metadata": {},
   "source": [
    "## Analyzing Hacker News Posts"
   ]
  },
  {
   "cell_type": "markdown",
   "id": "3928876f-9fcb-4ffb-b2a2-f5a1012bb5ab",
   "metadata": {},
   "source": [
    "This project aims to compare two distinct post types on [Hacker News](https://news.ycombinator.com/), a platform where users vote and comment on tech-related content. We'll focus on `Ask HN` and `Show HN` posts.\n",
    "\n",
    "`Ask HN` posts invite the community to answer a specific question, such as \"How to improve my personal website?\" Conversely, \"Show HN\" posts showcase projects, products, or other interesting items.\n",
    "\n",
    "Our analysis will determine:\n",
    "\n",
    "* Which post type, `Ask HN` or `Show HN` typically generates more comments?\n",
    "* Does post timing influence the volume of comments?\"\n",
    "  \n",
    "It's important to note that our dataset, originally comprising nearly 300,000 submissions, has been reduced to approximately 20,000 entries. This reduction involved eliminating posts with no comments and randomly sampling from the remaining data."
   ]
  },
  {
   "cell_type": "markdown",
   "id": "06c03830-1fef-4ed5-a7da-dcac3ff1f6ef",
   "metadata": {},
   "source": [
    "## Introduction\n",
    "We'll begin by importing the dataset and removing the header row."
   ]
  },
  {
   "cell_type": "code",
   "execution_count": 12,
   "id": "adeadc95-1055-447f-a214-f288f44763d1",
   "metadata": {},
   "outputs": [
    {
     "name": "stdout",
     "output_type": "stream",
     "text": [
      "[['id', 'title', 'url', 'num_points', 'num_comments', 'author', 'created_at'], ['12224879', 'Interactive Dynamic Video', 'http://www.interactivedynamicvideo.com/', '386', '52', 'ne0phyte', '8/4/2016 11:52'], ['10975351', 'How to Use Open Source and Shut the Fuck Up at the Same Time', 'http://hueniverse.com/2016/01/26/how-to-use-open-source-and-shut-the-fuck-up-at-the-same-time/', '39', '10', 'josep2', '1/26/2016 19:30'], ['11964716', \"Florida DJs May Face Felony for April Fools' Water Joke\", 'http://www.thewire.com/entertainment/2013/04/florida-djs-april-fools-water-joke/63798/', '2', '1', 'vezycash', '6/23/2016 22:20'], ['11919867', 'Technology ventures: From Idea to Enterprise', 'https://www.amazon.com/Technology-Ventures-Enterprise-Thomas-Byers/dp/0073523429', '3', '1', 'hswarna', '6/17/2016 0:01']]\n"
     ]
    }
   ],
   "source": [
    "# Read in the data\n",
    "import csv\n",
    "\n",
    "f = open('hacker_news.csv')\n",
    "hn = list(csv.reader(f))\n",
    "print(hn[:5])"
   ]
  },
  {
   "cell_type": "markdown",
   "id": "f5dafb6d-5e61-4346-b3d4-78d429bde114",
   "metadata": {},
   "source": [
    "## Removing Headers from a List of Lists"
   ]
  },
  {
   "cell_type": "code",
   "execution_count": 18,
   "id": "038ef669-ac4e-423f-a441-aa82a5e95947",
   "metadata": {},
   "outputs": [
    {
     "name": "stdout",
     "output_type": "stream",
     "text": [
      "['id', 'title', 'url', 'num_points', 'num_comments', 'author', 'created_at']\n",
      "[['12224879', 'Interactive Dynamic Video', 'http://www.interactivedynamicvideo.com/', '386', '52', 'ne0phyte', '8/4/2016 11:52'], ['10975351', 'How to Use Open Source and Shut the Fuck Up at the Same Time', 'http://hueniverse.com/2016/01/26/how-to-use-open-source-and-shut-the-fuck-up-at-the-same-time/', '39', '10', 'josep2', '1/26/2016 19:30'], ['11964716', \"Florida DJs May Face Felony for April Fools' Water Joke\", 'http://www.thewire.com/entertainment/2013/04/florida-djs-april-fools-water-joke/63798/', '2', '1', 'vezycash', '6/23/2016 22:20'], ['11919867', 'Technology ventures: From Idea to Enterprise', 'https://www.amazon.com/Technology-Ventures-Enterprise-Thomas-Byers/dp/0073523429', '3', '1', 'hswarna', '6/17/2016 0:01'], ['10301696', 'Note by Note: The Making of Steinway L1037 (2007)', 'http://www.nytimes.com/2007/11/07/movies/07stein.html?_r=0', '8', '2', 'walterbell', '9/30/2015 4:12']]\n"
     ]
    }
   ],
   "source": [
    "# Remove the headers.\n",
    "headers = hn[0]\n",
    "hn = hn[1:]\n",
    "print(headers)\n",
    "print(hn[:5])"
   ]
  },
  {
   "cell_type": "markdown",
   "id": "ed28bb56-edf0-415e-9627-b7bde680b3b0",
   "metadata": {},
   "source": [
    "The dataset includes the post title, comment count, and creation date for each post. Let's start by comparing comment counts between `Ask HN` and `Show HN` posts."
   ]
  },
  {
   "cell_type": "markdown",
   "id": "d1006619-41aa-4f87-856c-ecbdaa3598b3",
   "metadata": {},
   "source": [
    "## Extracting Ask HN and Show HN Posts\n",
    "Next, we'll separate the data into two groups based on post type: `Ask HN` and `Show HN`. This will simplify our analysis."
   ]
  },
  {
   "cell_type": "code",
   "execution_count": 24,
   "id": "de6805f5-a942-4bd1-a552-83e43c0cd4fb",
   "metadata": {},
   "outputs": [
    {
     "name": "stdout",
     "output_type": "stream",
     "text": [
      "1744\n",
      "1162\n",
      "17194\n"
     ]
    }
   ],
   "source": [
    "# Identify posts that begin with either `Ask HN` or `Show HN` and separate the data into different lists.\n",
    "ask_posts = []\n",
    "show_posts = []\n",
    "other_posts = []\n",
    "\n",
    "for row in hn:\n",
    "    title = row[1].lower()\n",
    "    \n",
    "    if title.startswith('ask hn'):\n",
    "        ask_posts.append(row)\n",
    "    elif title.startswith('show hn'):\n",
    "        show_posts.append(row)\n",
    "    else:\n",
    "        other_posts.append(row)\n",
    "        \n",
    "print(len(ask_posts))\n",
    "print(len(show_posts))\n",
    "print(len(other_posts))"
   ]
  },
  {
   "cell_type": "markdown",
   "id": "7146c7db-3fb9-4ebe-bd5b-a6d01398bfb8",
   "metadata": {},
   "source": [
    "## Analyzing Average Comment Engagement for \"Ask HN\" and \"Show HN\" Posts\n",
    "With the data separated, we'll calculate the average comment count for each post type."
   ]
  },
  {
   "cell_type": "code",
   "execution_count": 32,
   "id": "3ae199f0-ed22-42a1-a92d-dc4e4b5b299e",
   "metadata": {},
   "outputs": [
    {
     "name": "stdout",
     "output_type": "stream",
     "text": [
      "14.038417431192661\n"
     ]
    }
   ],
   "source": [
    "# Calculate the average number of comments `Ask HN` posts receive.\n",
    "total_ask_comments = 0\n",
    "\n",
    "for row in ask_posts:\n",
    "    total_show_comments += int(post[4])\n",
    "    \n",
    "avg_ask_comments = total_ask_comments / len(ask_posts)\n",
    "print(avg_ask_comments)"
   ]
  },
  {
   "cell_type": "code",
   "execution_count": 36,
   "id": "41ab7032-ee0c-4e70-89b7-4cdbce172b8c",
   "metadata": {},
   "outputs": [
    {
     "name": "stdout",
     "output_type": "stream",
     "text": [
      "10.31669535283993\n"
     ]
    }
   ],
   "source": [
    "total_show_comments = 0\n",
    "\n",
    "for post in show_posts:\n",
    "    total_show_comments += int(post[4])\n",
    "    \n",
    "avg_show_comments = total_show_comments / len(show_posts)\n",
    "print(avg_show_comments)"
   ]
  },
  {
   "cell_type": "markdown",
   "id": "4d9a5a1d-2c45-4d6e-b8e3-22ff9a47623e",
   "metadata": {},
   "source": [
    "`Ask HN` posts average around 14 comments, compared to 10 for `Show HN` posts. Given the higher engagement, we'll focus our analysis on `Ask HN` posts."
   ]
  },
  {
   "cell_type": "markdown",
   "id": "17d2aca5-2d75-4648-a802-4a89b96ccc9f",
   "metadata": {},
   "source": [
    "## Determining \"Ask HN\" Post and Comment Volume by Creation Hour\n",
    "To identify potential optimal posting times, we'll analyze Ask HN posts by creation hour. This involves calculating post and comment counts for each hour, followed by determining average comment counts per hour."
   ]
  },
  {
   "cell_type": "code",
   "execution_count": 44,
   "id": "b12a5765-dfcf-46cb-b9ea-8cd449370d8c",
   "metadata": {},
   "outputs": [
    {
     "data": {
      "text/plain": [
       "{'09': 251,\n",
       " '13': 1253,\n",
       " '10': 793,\n",
       " '14': 1416,\n",
       " '16': 1814,\n",
       " '23': 543,\n",
       " '12': 687,\n",
       " '17': 1146,\n",
       " '15': 4477,\n",
       " '21': 1745,\n",
       " '20': 1722,\n",
       " '02': 1381,\n",
       " '18': 1439,\n",
       " '03': 421,\n",
       " '05': 464,\n",
       " '19': 1188,\n",
       " '01': 683,\n",
       " '22': 479,\n",
       " '08': 492,\n",
       " '04': 337,\n",
       " '00': 447,\n",
       " '06': 397,\n",
       " '07': 267,\n",
       " '11': 641}"
      ]
     },
     "execution_count": 44,
     "metadata": {},
     "output_type": "execute_result"
    }
   ],
   "source": [
    "# Calculate the amount of ask posts created during each hour of day and the number of comments received.\n",
    "\n",
    "import datetime as dt\n",
    "\n",
    "result_list = []\n",
    "for row in ask_posts:\n",
    "    result_list.append([row[6], int(row[4])])\n",
    "\n",
    "counts_by_hour = {}\n",
    "comments_by_hour = {}\n",
    "date_format = \"%m/%d/%Y %H:%M\"\n",
    "\n",
    "for row in result_list:\n",
    "    date = dt.datetime.strptime(row[0], date_format)\n",
    "    time = dt.datetime.strftime(date, '%H')\n",
    "    \n",
    "    if time not in counts_by_hour:\n",
    "        counts_by_hour[time] = 1\n",
    "        comments_by_hour[time] = row[1]\n",
    "    else:\n",
    "        counts_by_hour[time] += 1\n",
    "        comments_by_hour[time] += row[1]\n",
    "\n",
    "comments_by_hour"
   ]
  },
  {
   "cell_type": "markdown",
   "id": "c2f68bf9-f9fa-4b16-82f5-e516407b8a5a",
   "metadata": {},
   "source": [
    "## Determining Average Comment Counts for \"Ask HN\" Posts by Hour"
   ]
  },
  {
   "cell_type": "code",
   "execution_count": 53,
   "id": "c12130d0-f921-4fbb-a0bd-18ca4f343114",
   "metadata": {},
   "outputs": [
    {
     "data": {
      "text/plain": [
       "[['09', 6],\n",
       " ['13', 15],\n",
       " ['10', 13],\n",
       " ['14', 13],\n",
       " ['16', 17],\n",
       " ['23', 8],\n",
       " ['12', 9],\n",
       " ['17', 11],\n",
       " ['15', 39],\n",
       " ['21', 16],\n",
       " ['20', 22],\n",
       " ['02', 24],\n",
       " ['18', 13],\n",
       " ['03', 8],\n",
       " ['05', 10],\n",
       " ['19', 11],\n",
       " ['01', 11],\n",
       " ['22', 7],\n",
       " ['08', 10],\n",
       " ['04', 7],\n",
       " ['00', 8],\n",
       " ['06', 9],\n",
       " ['07', 8],\n",
       " ['11', 11]]"
      ]
     },
     "execution_count": 53,
     "metadata": {},
     "output_type": "execute_result"
    }
   ],
   "source": [
    "# Calculate the average amount of comments `Ask HN` posts created at each hour of the day receive.\n",
    "avg_by_hour = []\n",
    "\n",
    "for hr in comments_by_hour:\n",
    "    avg_by_hour.append([hr, round((comments_by_hour[hr] / counts_by_hour[hr]))])\n",
    "\n",
    "avg_by_hour"
   ]
  },
  {
   "cell_type": "markdown",
   "id": "0a2bc7be-996c-460d-a3f6-d518093fe038",
   "metadata": {},
   "source": [
    "## Sorting and Printing Values from a List of Lists"
   ]
  },
  {
   "cell_type": "code",
   "execution_count": 61,
   "id": "5f8a413e-48a7-4343-a091-1babe51473c4",
   "metadata": {},
   "outputs": [
    {
     "name": "stdout",
     "output_type": "stream",
     "text": [
      "[[6, '09'], [15, '13'], [13, '10'], [13, '14'], [17, '16'], [8, '23'], [9, '12'], [11, '17'], [39, '15'], [16, '21'], [22, '20'], [24, '02'], [13, '18'], [8, '03'], [10, '05'], [11, '19'], [11, '01'], [7, '22'], [10, '08'], [7, '04'], [8, '00'], [9, '06'], [8, '07'], [11, '11']]\n"
     ]
    },
    {
     "data": {
      "text/plain": [
       "[[39, '15'],\n",
       " [24, '02'],\n",
       " [22, '20'],\n",
       " [17, '16'],\n",
       " [16, '21'],\n",
       " [15, '13'],\n",
       " [13, '18'],\n",
       " [13, '14'],\n",
       " [13, '10'],\n",
       " [11, '19'],\n",
       " [11, '17'],\n",
       " [11, '11'],\n",
       " [11, '01'],\n",
       " [10, '08'],\n",
       " [10, '05'],\n",
       " [9, '12'],\n",
       " [9, '06'],\n",
       " [8, '23'],\n",
       " [8, '07'],\n",
       " [8, '03'],\n",
       " [8, '00'],\n",
       " [7, '22'],\n",
       " [7, '04'],\n",
       " [6, '09']]"
      ]
     },
     "execution_count": 61,
     "metadata": {},
     "output_type": "execute_result"
    }
   ],
   "source": [
    "swap_avg_by_hour = []\n",
    "\n",
    "for row in avg_by_hour:\n",
    "    swap_avg_by_hour.append([row[1], row[0]])\n",
    "\n",
    "print(swap_avg_by_hour)\n",
    "\n",
    "sorted_swap = sorted(swap_avg_by_hour, reverse = True)\n",
    "\n",
    "sorted_swap"
   ]
  },
  {
   "cell_type": "code",
   "execution_count": 65,
   "id": "fd964575-eabd-4874-93da-55ef4305761c",
   "metadata": {},
   "outputs": [
    {
     "name": "stdout",
     "output_type": "stream",
     "text": [
      "Top 5 Hours for Ask Posts Comments\n",
      "15:00: 39 average comments per post\n",
      "02:00: 24 average comments per post\n",
      "20:00: 22 average comments per post\n",
      "16:00: 17 average comments per post\n",
      "21:00: 16 average comments per post\n"
     ]
    }
   ],
   "source": [
    "# Sort the values and print the the 5 hours with the highest average comments.\n",
    "print(\"Top 5 Hours for Ask Posts Comments\")\n",
    "for avg, hr in sorted_swap[:5]:\n",
    "    print(\n",
    "        \"{}: {} average comments per post\".format(\n",
    "            dt.datetime.strptime(hr, \"%H\").strftime(\"%H:%M\"),avg\n",
    "        )\n",
    "    )"
   ]
  },
  {
   "cell_type": "markdown",
   "id": "4a790081-7043-483c-9204-d3ddedf43aa4",
   "metadata": {},
   "source": [
    "The optimal posting time for maximizing comment engagement is 15:00, averaging 39 comments per post. This time yields approximately 60% more comments than the second-best hour.\n",
    "\n",
    "Please note that the [dataset](https://www.kaggle.com/hacker-news/hacker-news-posts/home) uses Eastern Time (EST), making the optimal time 3:00 pm est.\n",
    "\n",
    "## Conclusion\n",
    "Our analysis of Hacker News posts indicates that `Ask HN` posts generally receive more comments than `Show HN` posts. Furthermore, `Ask HN` posts created between `15:00` and `16:00` tend to generate the highest average number of comments.\n",
    "\n",
    "It's crucial to note that our findings are based on a dataset excluding posts with zero comments. Consequently, our results highlight trends among posts that actively engaged the community.\n",
    "\n",
    "While these insights offer valuable guidance for maximizing comment engagement on Hacker News, further research with a more comprehensive dataset could provide additional insights and potentially refine these findings."
   ]
  }
 ],
 "metadata": {
  "kernelspec": {
   "display_name": "Python 3 (ipykernel)",
   "language": "python",
   "name": "python3"
  },
  "language_info": {
   "codemirror_mode": {
    "name": "ipython",
    "version": 3
   },
   "file_extension": ".py",
   "mimetype": "text/x-python",
   "name": "python",
   "nbconvert_exporter": "python",
   "pygments_lexer": "ipython3",
   "version": "3.11.7"
  }
 },
 "nbformat": 4,
 "nbformat_minor": 5
}
